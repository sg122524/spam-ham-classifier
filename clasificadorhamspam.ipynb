{
 "cells": [
  {
   "cell_type": "markdown",
   "id": "ec7e0f6a-ba2f-4d26-8c49-0f2da81123b4",
   "metadata": {},
   "source": [
    "## Importar librerías"
   ]
  },
  {
   "cell_type": "code",
   "execution_count": 1,
   "id": "1b96e895-3b7f-4272-97f8-bc27eab15faa",
   "metadata": {},
   "outputs": [],
   "source": [
    "# Importamos las librerías necesarias\n",
    "import pandas as pd\n",
    "import numpy as np\n",
    "from sklearn.model_selection import train_test_split\n",
    "from sklearn.linear_model import LinearRegression, LogisticRegression\n",
    "from sklearn.naive_bayes import GaussianNB\n",
    "from sklearn.metrics import accuracy_score, precision_score, recall_score, f1_score, confusion_matrix\n"
   ]
  },
  {
   "cell_type": "markdown",
   "id": "345256b1-5a50-43c9-8a0c-c7db93f19f08",
   "metadata": {},
   "source": [
    "## Cargar y explorar el dataset"
   ]
  },
  {
   "cell_type": "code",
   "execution_count": 2,
   "id": "d165656e-5f7d-4b96-8bc8-63a0657ff2ef",
   "metadata": {},
   "outputs": [
    {
     "data": {
      "text/html": [
       "<div>\n",
       "<style scoped>\n",
       "    .dataframe tbody tr th:only-of-type {\n",
       "        vertical-align: middle;\n",
       "    }\n",
       "\n",
       "    .dataframe tbody tr th {\n",
       "        vertical-align: top;\n",
       "    }\n",
       "\n",
       "    .dataframe thead th {\n",
       "        text-align: right;\n",
       "    }\n",
       "</style>\n",
       "<table border=\"1\" class=\"dataframe\">\n",
       "  <thead>\n",
       "    <tr style=\"text-align: right;\">\n",
       "      <th></th>\n",
       "      <th>ID</th>\n",
       "      <th>Mensaje</th>\n",
       "      <th>Longitud</th>\n",
       "      <th>%Mayusculas</th>\n",
       "      <th>%Digitos</th>\n",
       "      <th>Contiene_Link</th>\n",
       "      <th>Contiene_Oferta</th>\n",
       "      <th>Contiene_Dinero</th>\n",
       "      <th>Contiene_Urgente</th>\n",
       "      <th>Contiene_Saludo</th>\n",
       "      <th>Palabras_Tokenizadas</th>\n",
       "      <th>Clase</th>\n",
       "    </tr>\n",
       "  </thead>\n",
       "  <tbody>\n",
       "    <tr>\n",
       "      <th>0</th>\n",
       "      <td>1</td>\n",
       "      <td>OFERTA EXCLUSIVA</td>\n",
       "      <td>16</td>\n",
       "      <td>9375</td>\n",
       "      <td>0</td>\n",
       "      <td>0</td>\n",
       "      <td>1</td>\n",
       "      <td>0</td>\n",
       "      <td>0</td>\n",
       "      <td>0</td>\n",
       "      <td>2</td>\n",
       "      <td>SPAM</td>\n",
       "    </tr>\n",
       "    <tr>\n",
       "      <th>1</th>\n",
       "      <td>2</td>\n",
       "      <td>URGENTE</td>\n",
       "      <td>7</td>\n",
       "      <td>1000</td>\n",
       "      <td>0</td>\n",
       "      <td>0</td>\n",
       "      <td>0</td>\n",
       "      <td>0</td>\n",
       "      <td>1</td>\n",
       "      <td>0</td>\n",
       "      <td>1</td>\n",
       "      <td>SPAM</td>\n",
       "    </tr>\n",
       "    <tr>\n",
       "      <th>2</th>\n",
       "      <td>3</td>\n",
       "      <td>PROMOCIÓN</td>\n",
       "      <td>9</td>\n",
       "      <td>1000</td>\n",
       "      <td>0</td>\n",
       "      <td>0</td>\n",
       "      <td>1</td>\n",
       "      <td>0</td>\n",
       "      <td>0</td>\n",
       "      <td>0</td>\n",
       "      <td>1</td>\n",
       "      <td>SPAM</td>\n",
       "    </tr>\n",
       "    <tr>\n",
       "      <th>3</th>\n",
       "      <td>4</td>\n",
       "      <td>PROMOCIÓN</td>\n",
       "      <td>9</td>\n",
       "      <td>1000</td>\n",
       "      <td>0</td>\n",
       "      <td>0</td>\n",
       "      <td>1</td>\n",
       "      <td>0</td>\n",
       "      <td>0</td>\n",
       "      <td>0</td>\n",
       "      <td>1</td>\n",
       "      <td>SPAM</td>\n",
       "    </tr>\n",
       "    <tr>\n",
       "      <th>4</th>\n",
       "      <td>5</td>\n",
       "      <td>PROMOCIÓN YA</td>\n",
       "      <td>12</td>\n",
       "      <td>9167</td>\n",
       "      <td>0</td>\n",
       "      <td>0</td>\n",
       "      <td>1</td>\n",
       "      <td>0</td>\n",
       "      <td>1</td>\n",
       "      <td>0</td>\n",
       "      <td>2</td>\n",
       "      <td>SPAM</td>\n",
       "    </tr>\n",
       "  </tbody>\n",
       "</table>\n",
       "</div>"
      ],
      "text/plain": [
       "   ID           Mensaje  Longitud  %Mayusculas  %Digitos  Contiene_Link  \\\n",
       "0   1  OFERTA EXCLUSIVA        16         9375         0              0   \n",
       "1   2           URGENTE         7         1000         0              0   \n",
       "2   3         PROMOCIÓN         9         1000         0              0   \n",
       "3   4         PROMOCIÓN         9         1000         0              0   \n",
       "4   5      PROMOCIÓN YA        12         9167         0              0   \n",
       "\n",
       "   Contiene_Oferta  Contiene_Dinero  Contiene_Urgente  Contiene_Saludo  \\\n",
       "0                1                0                 0                0   \n",
       "1                0                0                 1                0   \n",
       "2                1                0                 0                0   \n",
       "3                1                0                 0                0   \n",
       "4                1                0                 1                0   \n",
       "\n",
       "   Palabras_Tokenizadas Clase  \n",
       "0                     2  SPAM  \n",
       "1                     1  SPAM  \n",
       "2                     1  SPAM  \n",
       "3                     1  SPAM  \n",
       "4                     2  SPAM  "
      ]
     },
     "execution_count": 2,
     "metadata": {},
     "output_type": "execute_result"
    }
   ],
   "source": [
    "# Cargamos el dataset desde Excel\n",
    "df = pd.read_excel(\"dataset_spam_ham.xlsx\", sheet_name=\"dataset_spam_ham\")\n",
    "\n",
    "# Mostramos las primeras filas para ver la estructura de los datos\n",
    "df.head()\n"
   ]
  },
  {
   "cell_type": "markdown",
   "id": "77bca9bd-0e8f-4ab6-b3dd-8801c6ae3cfc",
   "metadata": {},
   "source": [
    "## Selección de variables (features y target)"
   ]
  },
  {
   "cell_type": "code",
   "execution_count": 3,
   "id": "47990c8c-320b-4b3e-8ff4-373f94c266ae",
   "metadata": {},
   "outputs": [
    {
     "name": "stdout",
     "output_type": "stream",
     "text": [
      "Shape de X: (1000, 9)\n",
      "Shape de y: (1000,)\n"
     ]
    }
   ],
   "source": [
    "# Seleccionamos las variables predictoras (X) y la variable objetivo (y)\n",
    "X = df.drop(columns=[\"ID\", \"Mensaje\", \"Clase\"])   # quitamos columnas que no son numéricas para el modelo\n",
    "y = df[\"Clase\"].map({\"HAM\":0, \"SPAM\":1})          # convertimos etiquetas en 0 (HAM) y 1 (SPAM)\n",
    "\n",
    "# Mostramos dimensiones de los datos\n",
    "print(\"Shape de X:\", X.shape)\n",
    "print(\"Shape de y:\", y.shape)\n"
   ]
  },
  {
   "cell_type": "markdown",
   "id": "1c990384-f4f4-4ea3-9eea-32a2fca1e2e8",
   "metadata": {},
   "source": [
    "## División en entrenamiento y prueba"
   ]
  },
  {
   "cell_type": "code",
   "execution_count": 4,
   "id": "a14f7793-e027-473f-803f-82e95bdc5394",
   "metadata": {},
   "outputs": [
    {
     "name": "stdout",
     "output_type": "stream",
     "text": [
      "Tamaño de entrenamiento: (800, 9)\n",
      "Tamaño de prueba: (200, 9)\n"
     ]
    }
   ],
   "source": [
    "# Dividimos el dataset en entrenamiento (80%) y prueba (20%)\n",
    "X_train, X_test, y_train, y_test = train_test_split(\n",
    "    X, y, test_size=0.2, random_state=42, stratify=y\n",
    ")\n",
    "\n",
    "print(\"Tamaño de entrenamiento:\", X_train.shape)\n",
    "print(\"Tamaño de prueba:\", X_test.shape)\n"
   ]
  },
  {
   "cell_type": "markdown",
   "id": "655b6627-730c-499a-8594-be8692c889a0",
   "metadata": {},
   "source": [
    "## Entrenamiento con Regresión Lineal"
   ]
  },
  {
   "cell_type": "code",
   "execution_count": 5,
   "id": "bd823757-953b-4d93-aa6c-caefcdd3ee9c",
   "metadata": {},
   "outputs": [],
   "source": [
    "# Creamos y entrenamos el modelo de Regresión Lineal\n",
    "linreg = LinearRegression()\n",
    "linreg.fit(X_train, y_train)\n",
    "\n",
    "# La regresión lineal devuelve valores continuos\n",
    "y_pred_cont = linreg.predict(X_test)\n",
    "\n",
    "# Convertimos a clases aplicando un umbral de 0.5\n",
    "y_pred_lr = (y_pred_cont >= 0.5).astype(int)\n"
   ]
  },
  {
   "cell_type": "markdown",
   "id": "e8a520cb-4278-4d69-806a-d56d3cc1e500",
   "metadata": {},
   "source": [
    "## Entrenamiento con Regresión Logística"
   ]
  },
  {
   "cell_type": "code",
   "execution_count": 6,
   "id": "ace5b779-4f06-4021-b191-f646c513235d",
   "metadata": {},
   "outputs": [],
   "source": [
    "# Creamos y entrenamos el modelo de Regresión Logística\n",
    "logreg = LogisticRegression(max_iter=1000)\n",
    "logreg.fit(X_train, y_train)\n",
    "\n",
    "# Predicciones\n",
    "y_pred_log = logreg.predict(X_test)\n"
   ]
  },
  {
   "cell_type": "markdown",
   "id": "57a182ec-d582-48c2-aacf-010e1e5a1ac6",
   "metadata": {},
   "source": [
    "## Entrenamiento con Naive Bayes"
   ]
  },
  {
   "cell_type": "code",
   "execution_count": 7,
   "id": "7f4c7af1-cc42-4fed-9584-c3900ce5d4df",
   "metadata": {},
   "outputs": [],
   "source": [
    "# Creamos y entrenamos el modelo de Naive Bayes\n",
    "nb = GaussianNB()\n",
    "nb.fit(X_train, y_train)\n",
    "\n",
    "# Predicciones\n",
    "y_pred_nb = nb.predict(X_test)\n"
   ]
  },
  {
   "cell_type": "markdown",
   "id": "146bbb46-3a3e-4c1a-a644-a6a4b3ae30ab",
   "metadata": {},
   "source": [
    "## Función para evaluar modelos"
   ]
  },
  {
   "cell_type": "code",
   "execution_count": 8,
   "id": "f5ba7c88-ebd2-4aa4-be1e-9295fd0e0630",
   "metadata": {},
   "outputs": [],
   "source": [
    "# Función auxiliar para imprimir métricas\n",
    "def evaluar(y_true, y_pred, modelo):\n",
    "    print(f\"--- {modelo} ---\")\n",
    "    print(\"Accuracy :\", accuracy_score(y_true, y_pred))\n",
    "    print(\"Precisión:\", precision_score(y_true, y_pred))\n",
    "    print(\"Recall   :\", recall_score(y_true, y_pred))\n",
    "    print(\"F1 Score :\", f1_score(y_true, y_pred))\n",
    "    print(\"Matriz de confusión:\\n\", confusion_matrix(y_true, y_pred))\n",
    "    print()\n"
   ]
  },
  {
   "cell_type": "markdown",
   "id": "110ea986-9237-4af8-8dcf-3592dbe21db0",
   "metadata": {},
   "source": [
    "## Evaluación de los tres modelos"
   ]
  },
  {
   "cell_type": "code",
   "execution_count": 9,
   "id": "26c9c053-f6ef-478e-8090-96a20c9aae6b",
   "metadata": {},
   "outputs": [
    {
     "name": "stdout",
     "output_type": "stream",
     "text": [
      "--- Regresión Lineal (umbral=0.5) ---\n",
      "Accuracy : 1.0\n",
      "Precisión: 1.0\n",
      "Recall   : 1.0\n",
      "F1 Score : 1.0\n",
      "Matriz de confusión:\n",
      " [[100   0]\n",
      " [  0 100]]\n",
      "\n",
      "--- Regresión Logística ---\n",
      "Accuracy : 1.0\n",
      "Precisión: 1.0\n",
      "Recall   : 1.0\n",
      "F1 Score : 1.0\n",
      "Matriz de confusión:\n",
      " [[100   0]\n",
      " [  0 100]]\n",
      "\n",
      "--- Naive Bayes ---\n",
      "Accuracy : 1.0\n",
      "Precisión: 1.0\n",
      "Recall   : 1.0\n",
      "F1 Score : 1.0\n",
      "Matriz de confusión:\n",
      " [[100   0]\n",
      " [  0 100]]\n",
      "\n"
     ]
    }
   ],
   "source": [
    "# Evaluamos cada modelo\n",
    "evaluar(y_test, y_pred_lr, \"Regresión Lineal (umbral=0.5)\")\n",
    "evaluar(y_test, y_pred_log, \"Regresión Logística\")\n",
    "evaluar(y_test, y_pred_nb, \"Naive Bayes\")\n"
   ]
  },
  {
   "cell_type": "markdown",
   "id": "10406f68-128b-4668-b7d0-09ec0372f167",
   "metadata": {},
   "source": [
    "## Importancia de variables"
   ]
  },
  {
   "cell_type": "code",
   "execution_count": 10,
   "id": "56993bd6-c6ed-4e8d-896e-e91ea78e365e",
   "metadata": {},
   "outputs": [
    {
     "data": {
      "image/png": "[encoded data removed]",
      "text/plain": [
       "<Figure size 1000x600 with 1 Axes>"
      ]
     },
     "metadata": {},
     "output_type": "display_data"
    }
   ],
   "source": [
    "# Coeficientes de la Regresión Logística (más interpretables que los de la lineal)\n",
    "import matplotlib.pyplot as plt\n",
    "\n",
    "coefs = logreg.coef_[0]\n",
    "features = X.columns\n",
    "\n",
    "# Ordenamos por importancia\n",
    "sorted_idx = np.argsort(coefs)\n",
    "plt.figure(figsize=(10,6))\n",
    "plt.barh(features[sorted_idx], coefs[sorted_idx])\n",
    "plt.title(\"Importancia de las variables en la clasificación (Logistic Regression)\")\n",
    "plt.xlabel(\"Peso del coeficiente\")\n",
    "plt.show()\n"
   ]
  }
 ],
 "metadata": {
  "kernelspec": {
   "display_name": "Python 3 (ipykernel)",
   "language": "python",
   "name": "python3"
  },
  "language_info": {
   "codemirror_mode": {
    "name": "ipython",
    "version": 3
   },
   "file_extension": ".py",
   "mimetype": "text/x-python",
   "name": "python",
   "nbconvert_exporter": "python",
   "pygments_lexer": "ipython3",
   "version": "3.12.10"
  }
 },
 "nbformat": 4,
 "nbformat_minor": 5
}
